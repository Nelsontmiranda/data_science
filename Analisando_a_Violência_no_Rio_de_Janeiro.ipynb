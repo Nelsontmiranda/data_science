{
  "nbformat": 4,
  "nbformat_minor": 0,
  "metadata": {
    "colab": {
      "name": "Analisando a Violência no Rio de Janeiro.ipynb",
      "provenance": [],
      "collapsed_sections": [],
      "include_colab_link": true
    },
    "kernelspec": {
      "name": "python3",
      "display_name": "Python 3"
    }
  },
  "cells": [
    {
      "cell_type": "markdown",
      "metadata": {
        "id": "view-in-github",
        "colab_type": "text"
      },
      "source": [
        "<a href=\"https://colab.research.google.com/github/Nelsontmiranda/data_science/blob/master/Analisando_a_Viol%C3%AAncia_no_Rio_de_Janeiro.ipynb\" target=\"_parent\"><img src=\"https://colab.research.google.com/assets/colab-badge.svg\" alt=\"Open In Colab\"/></a>"
      ]
    },
    {
      "cell_type": "markdown",
      "metadata": {
        "id": "kLI0gJtzDGuQ",
        "colab_type": "text"
      },
      "source": [
        "# **1 - Analisando os dados da Violência no Rio de Janeiro**\n",
        "\n",
        "<img width=\"50%\" src=\"https://urbanarts.vteximg.com.br/arquivos/ids/3975074/245448-CAN-165-92.jpg?v=637186316942230000\">\n",
        "\n",
        "\n",
        "A violência atinge todo o nosso Brasil, basta ligar a TV que a gente se depara com notícias e imagens assustadoras.\n",
        "\n",
        "A pouco menos de uma decáda, uma lei federal estabeleceu diretrizes para a transparência dos dados de orgãos públicos e garante o acesso de todos os cidadões a essas informações. \n",
        "\n",
        "Por exemplo, o estado do Rio, tem a iniciativa do portal [ISPdados](http://www.ispdados.rj.gov.br/estatistica.html). Neste artigo faremos uma análise das estatísticas da violência no Rio de Janeiro."
      ]
    },
    {
      "cell_type": "markdown",
      "metadata": {
        "id": "0zxQHhIUDF_2",
        "colab_type": "text"
      },
      "source": [
        "## **2 - Obtenção dos Dados**\n",
        "\n",
        "Os dados foram obtidos no portal [ISPdados](http://www.ispdados.rj.gov.br/estatistica.html), que é uma página de dados abertos do instituto de Segurança Pública do Rio de Janeiro.\n",
        "\n",
        "As estatísticas divulgadas no portal são construídas a partir dos Registros de Ocorrência (RO) lavrados nas delegacias da Secretaria de Estado de Polícia Civil do Rio de Janeiro (SEPOL), além de informações complementares de órgãos específicos da Secretaria de Estado de Polícia Militar do Rio de Janeiro (SEPM). Antes de serem consolidados no ISP, os RO são submetidos ao controle de qualidade realizado pela Corregedoria Geral de Polícia (CGPOL) da Secretaria de Estado de Polícia Civil. As estatísticas produzidas baseiam-se na data em que foi confeccionado o Registro de Ocorrência.\n",
        "\n",
        "Todos os dados usados nesta análise estão de acordo com a Lei de Acesso à Informação, objetivando maior transparência no que diz respeito às estatísticas de criminalidade e atividade policial do estado.\n",
        "\n",
        "Se tiver interesse, pode acessar o [dashboard interativo](http://www.ispvisualizacao.rj.gov.br/), criado pela ISP, para uma melhor visualização.\n",
        "\n",
        "Os dados apresentados nessa análise são de 1991 até 2019.\n"
      ]
    },
    {
      "cell_type": "code",
      "metadata": {
        "id": "CYLNme_OCX_R",
        "colab_type": "code",
        "colab": {}
      },
      "source": [
        "# importar os pacotes necessários \n",
        "import pandas as pd\n",
        "import matplotlib.pyplot as plt\n",
        "\n",
        "%matplotlib inline \n",
        "\n",
        "# importar o dataset para um dataframe \n",
        "df = pd.read_csv (\"https://raw.githubusercontent.com/carlosfab/dsnp2/master/datasets/violencia_rio.csv\")"
      ],
      "execution_count": 0,
      "outputs": []
    },
    {
      "cell_type": "markdown",
      "metadata": {
        "id": "Ok9z7_81K925",
        "colab_type": "text"
      },
      "source": [
        "## **3 - Análise dos Dados**\n",
        "\n",
        "Esta etapa tem por objetivo criar uma consciência situacional inicial e permitir um entendimento de como os dados estão estruturados."
      ]
    },
    {
      "cell_type": "markdown",
      "metadata": {
        "id": "N5_wGY_GNKxx",
        "colab_type": "text"
      },
      "source": [
        "**Dicionário das variáveis**\n",
        "\n",
        "* `vano`- Ano da comunicação da Ocorrência \n",
        "* `mes` - Mês da comunicação da Ocorrência\n",
        "* `hom_doloso` - Homicído Doloso\n",
        "* `lesao_corp_morte` - Lesão corporal seguida de morte\n",
        "* `latrocinio` - Latrocínio (roubo seguido de morte)\n",
        "* `hom_por_interv_policial` - Morte por intervenção do agente do Estado\n",
        "* `tentat_hom` - Tentativa de homicídio \n",
        "* `lesao_corp_dolosa` - Lesão Corporal Dolosa\n",
        "* `estupro` - Estupro\n",
        "* `hom_culposo` - Homicídio culposo (trânsito)\n",
        "* `lesao_corp_culposa` - Lesão corporal culposa (trânsito)\n",
        "* `roubo_comercio` - Roubo a estabelecimento comercial\n",
        "* `roubo_residencia` - Roubo a residência\n",
        "* `roubo_veiculo` - Roubo a veículo\n",
        "* `roubo_carga` - Roubo de Carga\n",
        "* `roubo_transeunte` - Roubo a transeunte \n",
        "* `roubo_em_coletivo` - Roubo em coletivo\n",
        "* `roubo_banco` - Roubo a banco\n",
        "* `roubo_cx_eletronico` - Roubo de caixa eletrônico\n",
        "* `roubo_celular` - Roubo de telefone celular\n",
        "* `roubo_conducao_saque` - Roubo com condução da vítima para saque em instituição financeira\n",
        "* `roubo_apos_saque` - Roubo após saque em instituição financeira\n",
        "* `roubo_bicicleta` - Roubo de bicicleta\n",
        "* `outros_roubos` - Outros roubos que não listados acima\n",
        "* `total_roubos` - Total de roubos\n",
        "* `furto_veiculos` - Furto de veículo\n",
        "* `furto_transeunte` - Furto a transeunte\n",
        "* `furto_coletivo` - Furto em coletivo\n",
        "* `furto_celular` - Furto de telefone celular\n",
        "* `furto_bicicleta` - Furto de bicicleta\n",
        "* `outros_furtos` - Outros furtos que não os listados acima\n",
        "* `total_furtos` - Total de furtos\n",
        "* `sequestros` -  Extorsão mediante sequestro (sequestro clássico)\n",
        "* `extorsao` - Extrosão\n",
        "* `sequestro_relampago` -   Extorsão com momentânea privação da liberdade (sequestro relâmpago)\n",
        "* `estelionato` -   Estelionato\n",
        "* `apreensao_drogas` -   Apreensão de drogas\n",
        "* `posse_drogas` - Número de registros que possuem algum título referente a posse de drogas\n",
        "* `trafico_drogas` - Número de registros que possuem algum título referente a tráfico de drogas\n",
        "* `apreensao_drogas_sem_autor` - Número de registros que possuem algum título referente a apreensão de drogas sem autor\n",
        "* `recuperacao_veiculos` -   Recuperação de veículo\n",
        "* `apf` - Auto de Prisão em Flagrante\n",
        "* `aaapai` - Auto de Apreensão de Adolescente por Prática de Ato Infracional\n",
        "* `cmp` - Cumprimento de Mandado de Prisão\n",
        "* `cmba` - Cumprimento de Mandado de Busca e Apreensão\n",
        "* `ameaca` - Ameaça\n",
        "* `pessoas_desaparecidas` - Pessoas desaparecidas\n",
        "* `encontro_cadaver` - Encontro de cadáver]\n",
        "* `encontro_ossada` - Encontro de ossada\n",
        "* `pol_militares_mortos_serv` -  Policiais Militares mortos em serviço\n",
        "* `pol_civis_mortos_serv` -   Policiais Civis mortos em serviço\n",
        "* `indicador_letalidade` - Letalidade violenta\n",
        "* `indicador_roubo_rua` - Roubo de rua\n",
        "* `indicador_roubo_veic` - Roubo de veículo (cópia da váriavel `roubo_veiculo`)\n",
        "* `registro_ocorrencias` - Registro de ocorrências"
      ]
    },
    {
      "cell_type": "markdown",
      "metadata": {
        "id": "6ea4b9UTUPGk",
        "colab_type": "text"
      },
      "source": [
        "###**3.1 - Vamos verificar agora as dimensões do nosso dataset**\n",
        "\n",
        "Vamos indentificar a quantidade de entradas e variáveis presentes no nosso DataFrame."
      ]
    },
    {
      "cell_type": "code",
      "metadata": {
        "id": "UOoU1wMkUiLf",
        "colab_type": "code",
        "outputId": "5ca28f0a-f9df-4b6f-c91f-3a2c7705487d",
        "colab": {
          "base_uri": "https://localhost:8080/",
          "height": 50
        }
      },
      "source": [
        "# imprimir a dimensão do dataset\n",
        "print ('Entradas:', df.shape[0])\n",
        "print ('Variáveis:', df.shape[1])"
      ],
      "execution_count": 0,
      "outputs": [
        {
          "output_type": "stream",
          "text": [
            "Entradas: 344\n",
            "Variáveis: 56\n"
          ],
          "name": "stdout"
        }
      ]
    },
    {
      "cell_type": "markdown",
      "metadata": {
        "id": "IdT6IxAvVofL",
        "colab_type": "text"
      },
      "source": [
        "### **3.2 - Quais são os tipos de variáveis**\n",
        "\n",
        "Vamos agora verificar com quais tipos de variáveis iremos trabalhar."
      ]
    },
    {
      "cell_type": "code",
      "metadata": {
        "id": "sFZVyZIFWTGj",
        "colab_type": "code",
        "outputId": "efc2afbf-24cb-4c86-e3f5-5b1264112db9",
        "colab": {
          "base_uri": "https://localhost:8080/",
          "height": 974
        }
      },
      "source": [
        "# visualizar os tipos de variáveis \n",
        "df.dtypes"
      ],
      "execution_count": 0,
      "outputs": [
        {
          "output_type": "execute_result",
          "data": {
            "text/plain": [
              "vano                            int64\n",
              "mes                             int64\n",
              "hom_doloso                      int64\n",
              "lesao_corp_morte              float64\n",
              "latrocinio                      int64\n",
              "hom_por_interv_policial       float64\n",
              "tentat_hom                      int64\n",
              "lesao_corp_dolosa               int64\n",
              "estupro                       float64\n",
              "hom_culposo                   float64\n",
              "lesao_corp_culposa            float64\n",
              "roubo_comercio                  int64\n",
              "roubo_residencia                int64\n",
              "roubo_veiculo                   int64\n",
              "roubo_carga                     int64\n",
              "roubo_transeunte                int64\n",
              "roubo_em_coletivo               int64\n",
              "roubo_banco                     int64\n",
              "roubo_cx_eletronico           float64\n",
              "roubo_celular                 float64\n",
              "roubo_conducao_saque          float64\n",
              "roubo_apos_saque              float64\n",
              "roubo_bicicleta               float64\n",
              "outros_roubos                   int64\n",
              "total_roubos                    int64\n",
              "furto_veiculos                  int64\n",
              "furto_transeunte                int64\n",
              "furto_coletivo                float64\n",
              "furto_celular                 float64\n",
              "furto_bicicleta               float64\n",
              "outros_furtos                   int64\n",
              "total_furtos                    int64\n",
              "sequestro                     float64\n",
              "extorsao                      float64\n",
              "sequestro_relampago           float64\n",
              "estelionato                   float64\n",
              "apreensao_drogas                int64\n",
              "posse_drogas                  float64\n",
              "trafico_drogas                float64\n",
              "apreensao_drogas_sem_autor    float64\n",
              "recuperacao_veiculos            int64\n",
              "apf                           float64\n",
              "aaapai                        float64\n",
              "cmp                           float64\n",
              "cmba                          float64\n",
              "ameaca                        float64\n",
              "pessoas_desaparecidas         float64\n",
              "encontro_cadaver                int64\n",
              "encontro_ossada               float64\n",
              "pol_militares_mortos_serv     float64\n",
              "pol_civis_mortos_serv         float64\n",
              "indicador_letalidade            int64\n",
              "indicador_roubo_rua             int64\n",
              "indicador_roubo_veic            int64\n",
              "registro_ocorrencias          float64\n",
              "fase                            int64\n",
              "dtype: object"
            ]
          },
          "metadata": {
            "tags": []
          },
          "execution_count": 27
        }
      ]
    },
    {
      "cell_type": "markdown",
      "metadata": {
        "id": "qcXkeX_PWivc",
        "colab_type": "text"
      },
      "source": [
        "### **3.3 - Como é a cara do nosso dataset?**\n",
        "\n",
        "Vamos agora visualizar as 5 primeiras entradas do nosso dataset, para entendermos como estão dispostos os dados.\n",
        "\n"
      ]
    },
    {
      "cell_type": "code",
      "metadata": {
        "id": "gV2No-U_W6Tq",
        "colab_type": "code",
        "outputId": "25ce3731-fd98-4e23-cff9-c40590c8606c",
        "colab": {
          "base_uri": "https://localhost:8080/",
          "height": 215
        }
      },
      "source": [
        "# Visualizar as 5 primeiras entradas\n",
        "df.head()"
      ],
      "execution_count": 0,
      "outputs": [
        {
          "output_type": "execute_result",
          "data": {
            "text/html": [
              "<div>\n",
              "<style scoped>\n",
              "    .dataframe tbody tr th:only-of-type {\n",
              "        vertical-align: middle;\n",
              "    }\n",
              "\n",
              "    .dataframe tbody tr th {\n",
              "        vertical-align: top;\n",
              "    }\n",
              "\n",
              "    .dataframe thead th {\n",
              "        text-align: right;\n",
              "    }\n",
              "</style>\n",
              "<table border=\"1\" class=\"dataframe\">\n",
              "  <thead>\n",
              "    <tr style=\"text-align: right;\">\n",
              "      <th></th>\n",
              "      <th>vano</th>\n",
              "      <th>mes</th>\n",
              "      <th>hom_doloso</th>\n",
              "      <th>lesao_corp_morte</th>\n",
              "      <th>latrocinio</th>\n",
              "      <th>hom_por_interv_policial</th>\n",
              "      <th>tentat_hom</th>\n",
              "      <th>lesao_corp_dolosa</th>\n",
              "      <th>estupro</th>\n",
              "      <th>hom_culposo</th>\n",
              "      <th>lesao_corp_culposa</th>\n",
              "      <th>roubo_comercio</th>\n",
              "      <th>roubo_residencia</th>\n",
              "      <th>roubo_veiculo</th>\n",
              "      <th>roubo_carga</th>\n",
              "      <th>roubo_transeunte</th>\n",
              "      <th>roubo_em_coletivo</th>\n",
              "      <th>roubo_banco</th>\n",
              "      <th>roubo_cx_eletronico</th>\n",
              "      <th>roubo_celular</th>\n",
              "      <th>roubo_conducao_saque</th>\n",
              "      <th>roubo_apos_saque</th>\n",
              "      <th>roubo_bicicleta</th>\n",
              "      <th>outros_roubos</th>\n",
              "      <th>total_roubos</th>\n",
              "      <th>furto_veiculos</th>\n",
              "      <th>furto_transeunte</th>\n",
              "      <th>furto_coletivo</th>\n",
              "      <th>furto_celular</th>\n",
              "      <th>furto_bicicleta</th>\n",
              "      <th>outros_furtos</th>\n",
              "      <th>total_furtos</th>\n",
              "      <th>sequestro</th>\n",
              "      <th>extorsao</th>\n",
              "      <th>sequestro_relampago</th>\n",
              "      <th>estelionato</th>\n",
              "      <th>apreensao_drogas</th>\n",
              "      <th>posse_drogas</th>\n",
              "      <th>trafico_drogas</th>\n",
              "      <th>apreensao_drogas_sem_autor</th>\n",
              "      <th>recuperacao_veiculos</th>\n",
              "      <th>apf</th>\n",
              "      <th>aaapai</th>\n",
              "      <th>cmp</th>\n",
              "      <th>cmba</th>\n",
              "      <th>ameaca</th>\n",
              "      <th>pessoas_desaparecidas</th>\n",
              "      <th>encontro_cadaver</th>\n",
              "      <th>encontro_ossada</th>\n",
              "      <th>pol_militares_mortos_serv</th>\n",
              "      <th>pol_civis_mortos_serv</th>\n",
              "      <th>indicador_letalidade</th>\n",
              "      <th>indicador_roubo_rua</th>\n",
              "      <th>indicador_roubo_veic</th>\n",
              "      <th>registro_ocorrencias</th>\n",
              "      <th>fase</th>\n",
              "    </tr>\n",
              "  </thead>\n",
              "  <tbody>\n",
              "    <tr>\n",
              "      <th>0</th>\n",
              "      <td>1991</td>\n",
              "      <td>1</td>\n",
              "      <td>657</td>\n",
              "      <td>NaN</td>\n",
              "      <td>15</td>\n",
              "      <td>NaN</td>\n",
              "      <td>162</td>\n",
              "      <td>3051</td>\n",
              "      <td>NaN</td>\n",
              "      <td>NaN</td>\n",
              "      <td>NaN</td>\n",
              "      <td>350</td>\n",
              "      <td>188</td>\n",
              "      <td>1174</td>\n",
              "      <td>63</td>\n",
              "      <td>967</td>\n",
              "      <td>381</td>\n",
              "      <td>37</td>\n",
              "      <td>NaN</td>\n",
              "      <td>NaN</td>\n",
              "      <td>NaN</td>\n",
              "      <td>NaN</td>\n",
              "      <td>NaN</td>\n",
              "      <td>158</td>\n",
              "      <td>3318</td>\n",
              "      <td>2009</td>\n",
              "      <td>1147</td>\n",
              "      <td>NaN</td>\n",
              "      <td>NaN</td>\n",
              "      <td>NaN</td>\n",
              "      <td>3561</td>\n",
              "      <td>6717</td>\n",
              "      <td>NaN</td>\n",
              "      <td>NaN</td>\n",
              "      <td>NaN</td>\n",
              "      <td>NaN</td>\n",
              "      <td>133</td>\n",
              "      <td>NaN</td>\n",
              "      <td>NaN</td>\n",
              "      <td>NaN</td>\n",
              "      <td>872</td>\n",
              "      <td>NaN</td>\n",
              "      <td>NaN</td>\n",
              "      <td>NaN</td>\n",
              "      <td>NaN</td>\n",
              "      <td>NaN</td>\n",
              "      <td>NaN</td>\n",
              "      <td>217</td>\n",
              "      <td>NaN</td>\n",
              "      <td>NaN</td>\n",
              "      <td>NaN</td>\n",
              "      <td>672</td>\n",
              "      <td>1348</td>\n",
              "      <td>1174</td>\n",
              "      <td>NaN</td>\n",
              "      <td>3</td>\n",
              "    </tr>\n",
              "    <tr>\n",
              "      <th>1</th>\n",
              "      <td>1991</td>\n",
              "      <td>2</td>\n",
              "      <td>732</td>\n",
              "      <td>NaN</td>\n",
              "      <td>17</td>\n",
              "      <td>NaN</td>\n",
              "      <td>175</td>\n",
              "      <td>3421</td>\n",
              "      <td>NaN</td>\n",
              "      <td>NaN</td>\n",
              "      <td>NaN</td>\n",
              "      <td>357</td>\n",
              "      <td>171</td>\n",
              "      <td>1097</td>\n",
              "      <td>64</td>\n",
              "      <td>963</td>\n",
              "      <td>432</td>\n",
              "      <td>35</td>\n",
              "      <td>NaN</td>\n",
              "      <td>NaN</td>\n",
              "      <td>NaN</td>\n",
              "      <td>NaN</td>\n",
              "      <td>NaN</td>\n",
              "      <td>142</td>\n",
              "      <td>3261</td>\n",
              "      <td>1850</td>\n",
              "      <td>1066</td>\n",
              "      <td>NaN</td>\n",
              "      <td>NaN</td>\n",
              "      <td>NaN</td>\n",
              "      <td>3309</td>\n",
              "      <td>6225</td>\n",
              "      <td>NaN</td>\n",
              "      <td>NaN</td>\n",
              "      <td>NaN</td>\n",
              "      <td>NaN</td>\n",
              "      <td>127</td>\n",
              "      <td>NaN</td>\n",
              "      <td>NaN</td>\n",
              "      <td>NaN</td>\n",
              "      <td>751</td>\n",
              "      <td>NaN</td>\n",
              "      <td>NaN</td>\n",
              "      <td>NaN</td>\n",
              "      <td>NaN</td>\n",
              "      <td>NaN</td>\n",
              "      <td>NaN</td>\n",
              "      <td>209</td>\n",
              "      <td>NaN</td>\n",
              "      <td>NaN</td>\n",
              "      <td>NaN</td>\n",
              "      <td>749</td>\n",
              "      <td>1395</td>\n",
              "      <td>1097</td>\n",
              "      <td>NaN</td>\n",
              "      <td>3</td>\n",
              "    </tr>\n",
              "    <tr>\n",
              "      <th>2</th>\n",
              "      <td>1991</td>\n",
              "      <td>3</td>\n",
              "      <td>713</td>\n",
              "      <td>NaN</td>\n",
              "      <td>25</td>\n",
              "      <td>NaN</td>\n",
              "      <td>216</td>\n",
              "      <td>3613</td>\n",
              "      <td>NaN</td>\n",
              "      <td>NaN</td>\n",
              "      <td>NaN</td>\n",
              "      <td>443</td>\n",
              "      <td>191</td>\n",
              "      <td>1265</td>\n",
              "      <td>71</td>\n",
              "      <td>963</td>\n",
              "      <td>422</td>\n",
              "      <td>43</td>\n",
              "      <td>NaN</td>\n",
              "      <td>NaN</td>\n",
              "      <td>NaN</td>\n",
              "      <td>NaN</td>\n",
              "      <td>NaN</td>\n",
              "      <td>131</td>\n",
              "      <td>3529</td>\n",
              "      <td>2084</td>\n",
              "      <td>1062</td>\n",
              "      <td>NaN</td>\n",
              "      <td>NaN</td>\n",
              "      <td>NaN</td>\n",
              "      <td>3573</td>\n",
              "      <td>6719</td>\n",
              "      <td>NaN</td>\n",
              "      <td>NaN</td>\n",
              "      <td>NaN</td>\n",
              "      <td>NaN</td>\n",
              "      <td>80</td>\n",
              "      <td>NaN</td>\n",
              "      <td>NaN</td>\n",
              "      <td>NaN</td>\n",
              "      <td>789</td>\n",
              "      <td>NaN</td>\n",
              "      <td>NaN</td>\n",
              "      <td>NaN</td>\n",
              "      <td>NaN</td>\n",
              "      <td>NaN</td>\n",
              "      <td>NaN</td>\n",
              "      <td>188</td>\n",
              "      <td>NaN</td>\n",
              "      <td>NaN</td>\n",
              "      <td>NaN</td>\n",
              "      <td>738</td>\n",
              "      <td>1385</td>\n",
              "      <td>1265</td>\n",
              "      <td>NaN</td>\n",
              "      <td>3</td>\n",
              "    </tr>\n",
              "    <tr>\n",
              "      <th>3</th>\n",
              "      <td>1991</td>\n",
              "      <td>4</td>\n",
              "      <td>634</td>\n",
              "      <td>NaN</td>\n",
              "      <td>20</td>\n",
              "      <td>NaN</td>\n",
              "      <td>200</td>\n",
              "      <td>3211</td>\n",
              "      <td>NaN</td>\n",
              "      <td>NaN</td>\n",
              "      <td>NaN</td>\n",
              "      <td>425</td>\n",
              "      <td>199</td>\n",
              "      <td>1415</td>\n",
              "      <td>81</td>\n",
              "      <td>1186</td>\n",
              "      <td>354</td>\n",
              "      <td>36</td>\n",
              "      <td>NaN</td>\n",
              "      <td>NaN</td>\n",
              "      <td>NaN</td>\n",
              "      <td>NaN</td>\n",
              "      <td>NaN</td>\n",
              "      <td>112</td>\n",
              "      <td>3808</td>\n",
              "      <td>2085</td>\n",
              "      <td>1195</td>\n",
              "      <td>NaN</td>\n",
              "      <td>NaN</td>\n",
              "      <td>NaN</td>\n",
              "      <td>3290</td>\n",
              "      <td>6570</td>\n",
              "      <td>NaN</td>\n",
              "      <td>NaN</td>\n",
              "      <td>NaN</td>\n",
              "      <td>NaN</td>\n",
              "      <td>133</td>\n",
              "      <td>NaN</td>\n",
              "      <td>NaN</td>\n",
              "      <td>NaN</td>\n",
              "      <td>787</td>\n",
              "      <td>NaN</td>\n",
              "      <td>NaN</td>\n",
              "      <td>NaN</td>\n",
              "      <td>NaN</td>\n",
              "      <td>NaN</td>\n",
              "      <td>NaN</td>\n",
              "      <td>140</td>\n",
              "      <td>NaN</td>\n",
              "      <td>NaN</td>\n",
              "      <td>NaN</td>\n",
              "      <td>654</td>\n",
              "      <td>1540</td>\n",
              "      <td>1415</td>\n",
              "      <td>NaN</td>\n",
              "      <td>3</td>\n",
              "    </tr>\n",
              "    <tr>\n",
              "      <th>4</th>\n",
              "      <td>1991</td>\n",
              "      <td>5</td>\n",
              "      <td>650</td>\n",
              "      <td>NaN</td>\n",
              "      <td>20</td>\n",
              "      <td>NaN</td>\n",
              "      <td>146</td>\n",
              "      <td>3051</td>\n",
              "      <td>NaN</td>\n",
              "      <td>NaN</td>\n",
              "      <td>NaN</td>\n",
              "      <td>553</td>\n",
              "      <td>231</td>\n",
              "      <td>1449</td>\n",
              "      <td>82</td>\n",
              "      <td>931</td>\n",
              "      <td>335</td>\n",
              "      <td>27</td>\n",
              "      <td>NaN</td>\n",
              "      <td>NaN</td>\n",
              "      <td>NaN</td>\n",
              "      <td>NaN</td>\n",
              "      <td>NaN</td>\n",
              "      <td>147</td>\n",
              "      <td>3755</td>\n",
              "      <td>2185</td>\n",
              "      <td>723</td>\n",
              "      <td>NaN</td>\n",
              "      <td>NaN</td>\n",
              "      <td>NaN</td>\n",
              "      <td>3546</td>\n",
              "      <td>6454</td>\n",
              "      <td>NaN</td>\n",
              "      <td>NaN</td>\n",
              "      <td>NaN</td>\n",
              "      <td>NaN</td>\n",
              "      <td>163</td>\n",
              "      <td>NaN</td>\n",
              "      <td>NaN</td>\n",
              "      <td>NaN</td>\n",
              "      <td>845</td>\n",
              "      <td>NaN</td>\n",
              "      <td>NaN</td>\n",
              "      <td>NaN</td>\n",
              "      <td>NaN</td>\n",
              "      <td>NaN</td>\n",
              "      <td>NaN</td>\n",
              "      <td>78</td>\n",
              "      <td>NaN</td>\n",
              "      <td>NaN</td>\n",
              "      <td>NaN</td>\n",
              "      <td>670</td>\n",
              "      <td>1266</td>\n",
              "      <td>1449</td>\n",
              "      <td>NaN</td>\n",
              "      <td>3</td>\n",
              "    </tr>\n",
              "  </tbody>\n",
              "</table>\n",
              "</div>"
            ],
            "text/plain": [
              "   vano  mes  hom_doloso  ...  indicador_roubo_veic  registro_ocorrencias  fase\n",
              "0  1991    1         657  ...                  1174                   NaN     3\n",
              "1  1991    2         732  ...                  1097                   NaN     3\n",
              "2  1991    3         713  ...                  1265                   NaN     3\n",
              "3  1991    4         634  ...                  1415                   NaN     3\n",
              "4  1991    5         650  ...                  1449                   NaN     3\n",
              "\n",
              "[5 rows x 56 columns]"
            ]
          },
          "metadata": {
            "tags": []
          },
          "execution_count": 26
        }
      ]
    },
    {
      "cell_type": "markdown",
      "metadata": {
        "id": "xIIDfd3Grv06",
        "colab_type": "text"
      },
      "source": [
        "* Podemos notar que logo nas 5 primeiras entradas, algumas variáveis estão com valores ausentes. No dicionário de variáveis, existe a explicação. Alguns casos começaram a ter os dados disponíveis após o início dessa coleta, que foi em janeiro de 1991. Por exemplo, `lesao_corp_morte`, ficou com os dados disponíveis apenas em 1999."
      ]
    },
    {
      "cell_type": "markdown",
      "metadata": {
        "id": "Z0ScgvRGXOry",
        "colab_type": "text"
      },
      "source": [
        "### **3.4 - Qual a porcentagem de valores ausentes no nosso dataset?**\n",
        "\n",
        "Vamos agora identificar a porcentagem de valores ausentes no dataset, para descobrirmos se precisaremos preencher colunas.\n",
        "\n"
      ]
    },
    {
      "cell_type": "code",
      "metadata": {
        "id": "6VjaW44tXtrG",
        "colab_type": "code",
        "outputId": "37c01de3-2c9c-4585-b4f7-439b681655fa",
        "colab": {
          "base_uri": "https://localhost:8080/",
          "height": 974
        }
      },
      "source": [
        "# ordenar em ordem decrescente as variáveis por seus valores ausentes\n",
        "(df.isnull().sum() / df.shape[0]).sort_values(ascending=False)"
      ],
      "execution_count": 0,
      "outputs": [
        {
          "output_type": "execute_result",
          "data": {
            "text/plain": [
              "roubo_bicicleta               0.802326\n",
              "furto_bicicleta               0.802326\n",
              "apreensao_drogas_sem_autor    0.523256\n",
              "posse_drogas                  0.523256\n",
              "apf                           0.523256\n",
              "aaapai                        0.523256\n",
              "cmp                           0.523256\n",
              "trafico_drogas                0.523256\n",
              "cmba                          0.523256\n",
              "sequestro_relampago           0.418605\n",
              "furto_coletivo                0.418605\n",
              "extorsao                      0.418605\n",
              "furto_celular                 0.418605\n",
              "roubo_apos_saque              0.418605\n",
              "roubo_conducao_saque          0.418605\n",
              "roubo_cx_eletronico           0.418605\n",
              "estupro                       0.418605\n",
              "estelionato                   0.418605\n",
              "pol_civis_mortos_serv         0.418605\n",
              "pol_militares_mortos_serv     0.418605\n",
              "pessoas_desaparecidas         0.383721\n",
              "encontro_ossada               0.383721\n",
              "roubo_celular                 0.313953\n",
              "lesao_corp_culposa            0.279070\n",
              "ameaca                        0.279070\n",
              "sequestro                     0.279070\n",
              "lesao_corp_morte              0.279070\n",
              "registro_ocorrencias          0.279070\n",
              "hom_por_interv_policial       0.244186\n",
              "hom_culposo                   0.244186\n",
              "tentat_hom                    0.000000\n",
              "roubo_comercio                0.000000\n",
              "roubo_residencia              0.000000\n",
              "latrocinio                    0.000000\n",
              "lesao_corp_dolosa             0.000000\n",
              "hom_doloso                    0.000000\n",
              "roubo_transeunte              0.000000\n",
              "mes                           0.000000\n",
              "roubo_veiculo                 0.000000\n",
              "roubo_carga                   0.000000\n",
              "fase                          0.000000\n",
              "roubo_em_coletivo             0.000000\n",
              "roubo_banco                   0.000000\n",
              "outros_roubos                 0.000000\n",
              "total_roubos                  0.000000\n",
              "furto_veiculos                0.000000\n",
              "furto_transeunte              0.000000\n",
              "outros_furtos                 0.000000\n",
              "total_furtos                  0.000000\n",
              "apreensao_drogas              0.000000\n",
              "recuperacao_veiculos          0.000000\n",
              "encontro_cadaver              0.000000\n",
              "indicador_letalidade          0.000000\n",
              "indicador_roubo_rua           0.000000\n",
              "indicador_roubo_veic          0.000000\n",
              "vano                          0.000000\n",
              "dtype: float64"
            ]
          },
          "metadata": {
            "tags": []
          },
          "execution_count": 29
        }
      ]
    },
    {
      "cell_type": "markdown",
      "metadata": {
        "id": "2iPEPlqHu9Nl",
        "colab_type": "text"
      },
      "source": [
        "\n",
        "\n",
        "* Notamos que as variáveis `roubo_bicicleta` e `furto_bicicleta` possui mais de 80% de valores faltantes. (Porém as duas variáveis começaram a ter disponibilidade de dados somente em 2015)\n",
        "* Todas as variáveis que possuem 52% dos valores faltantes, passaram a ter disponibilidade de dados de 2006 em diante."
      ]
    },
    {
      "cell_type": "markdown",
      "metadata": {
        "id": "G6dnsNYm-41g",
        "colab_type": "text"
      },
      "source": [
        "## **4 - Informações Estatísticas da Violência no Rio de Janeiro**\n",
        "\n",
        "Vamos agora aprofundar um pouco nas estatísticas do nosso dataset. Espero tirar alguns insights e informações importantes para chegarmos a uma boa conclusão no final deste artigo.\n",
        "\n",
        "\n"
      ]
    },
    {
      "cell_type": "markdown",
      "metadata": {
        "id": "nBy-e-dneqsq",
        "colab_type": "text"
      },
      "source": [
        "### **4.1 - Vamos visualizar um resumo estatístico**\n",
        "\n",
        "Dicionário da tabela abaixo.\n",
        "\n",
        "* count - quantidade de entradas válidas\n",
        "* mean - média dos valores\n",
        "* std - desvio padrão\n",
        "* min - menor valor da coluna\n",
        "* 25% - percentil 25\n",
        "* 50% - percentil 50 (e mediana)\n",
        "* 75% - percentil 75\n",
        "* max - maior valor da coluna\n"
      ]
    },
    {
      "cell_type": "code",
      "metadata": {
        "id": "qwwPF8r2e8c2",
        "colab_type": "code",
        "outputId": "78ed2df4-11a4-4fee-95e7-5315d53158dd",
        "colab": {
          "base_uri": "https://localhost:8080/",
          "height": 304
        }
      },
      "source": [
        "# ver o resumo estatístico das variáveis\n",
        "df.iloc[:,2:55].describe()"
      ],
      "execution_count": 0,
      "outputs": [
        {
          "output_type": "execute_result",
          "data": {
            "text/html": [
              "<div>\n",
              "<style scoped>\n",
              "    .dataframe tbody tr th:only-of-type {\n",
              "        vertical-align: middle;\n",
              "    }\n",
              "\n",
              "    .dataframe tbody tr th {\n",
              "        vertical-align: top;\n",
              "    }\n",
              "\n",
              "    .dataframe thead th {\n",
              "        text-align: right;\n",
              "    }\n",
              "</style>\n",
              "<table border=\"1\" class=\"dataframe\">\n",
              "  <thead>\n",
              "    <tr style=\"text-align: right;\">\n",
              "      <th></th>\n",
              "      <th>hom_doloso</th>\n",
              "      <th>lesao_corp_morte</th>\n",
              "      <th>latrocinio</th>\n",
              "      <th>hom_por_interv_policial</th>\n",
              "      <th>tentat_hom</th>\n",
              "      <th>lesao_corp_dolosa</th>\n",
              "      <th>estupro</th>\n",
              "      <th>hom_culposo</th>\n",
              "      <th>lesao_corp_culposa</th>\n",
              "      <th>roubo_comercio</th>\n",
              "      <th>roubo_residencia</th>\n",
              "      <th>roubo_veiculo</th>\n",
              "      <th>roubo_carga</th>\n",
              "      <th>roubo_transeunte</th>\n",
              "      <th>roubo_em_coletivo</th>\n",
              "      <th>roubo_banco</th>\n",
              "      <th>roubo_cx_eletronico</th>\n",
              "      <th>roubo_celular</th>\n",
              "      <th>roubo_conducao_saque</th>\n",
              "      <th>roubo_apos_saque</th>\n",
              "      <th>roubo_bicicleta</th>\n",
              "      <th>outros_roubos</th>\n",
              "      <th>total_roubos</th>\n",
              "      <th>furto_veiculos</th>\n",
              "      <th>furto_transeunte</th>\n",
              "      <th>furto_coletivo</th>\n",
              "      <th>furto_celular</th>\n",
              "      <th>furto_bicicleta</th>\n",
              "      <th>outros_furtos</th>\n",
              "      <th>total_furtos</th>\n",
              "      <th>sequestro</th>\n",
              "      <th>extorsao</th>\n",
              "      <th>sequestro_relampago</th>\n",
              "      <th>estelionato</th>\n",
              "      <th>apreensao_drogas</th>\n",
              "      <th>posse_drogas</th>\n",
              "      <th>trafico_drogas</th>\n",
              "      <th>apreensao_drogas_sem_autor</th>\n",
              "      <th>recuperacao_veiculos</th>\n",
              "      <th>apf</th>\n",
              "      <th>aaapai</th>\n",
              "      <th>cmp</th>\n",
              "      <th>cmba</th>\n",
              "      <th>ameaca</th>\n",
              "      <th>pessoas_desaparecidas</th>\n",
              "      <th>encontro_cadaver</th>\n",
              "      <th>encontro_ossada</th>\n",
              "      <th>pol_militares_mortos_serv</th>\n",
              "      <th>pol_civis_mortos_serv</th>\n",
              "      <th>indicador_letalidade</th>\n",
              "      <th>indicador_roubo_rua</th>\n",
              "      <th>indicador_roubo_veic</th>\n",
              "      <th>registro_ocorrencias</th>\n",
              "    </tr>\n",
              "  </thead>\n",
              "  <tbody>\n",
              "    <tr>\n",
              "      <th>count</th>\n",
              "      <td>344.000000</td>\n",
              "      <td>248.000000</td>\n",
              "      <td>344.000000</td>\n",
              "      <td>260.00000</td>\n",
              "      <td>344.000000</td>\n",
              "      <td>344.000000</td>\n",
              "      <td>200.000000</td>\n",
              "      <td>260.000000</td>\n",
              "      <td>248.000000</td>\n",
              "      <td>344.000000</td>\n",
              "      <td>344.000000</td>\n",
              "      <td>344.000000</td>\n",
              "      <td>344.000000</td>\n",
              "      <td>344.000000</td>\n",
              "      <td>344.000000</td>\n",
              "      <td>344.000000</td>\n",
              "      <td>200.000000</td>\n",
              "      <td>236.000000</td>\n",
              "      <td>200.000000</td>\n",
              "      <td>200.000000</td>\n",
              "      <td>68.000000</td>\n",
              "      <td>344.000000</td>\n",
              "      <td>344.000000</td>\n",
              "      <td>344.000000</td>\n",
              "      <td>344.000000</td>\n",
              "      <td>200.000000</td>\n",
              "      <td>200.000000</td>\n",
              "      <td>68.000000</td>\n",
              "      <td>344.000000</td>\n",
              "      <td>344.000000</td>\n",
              "      <td>248.000000</td>\n",
              "      <td>200.000000</td>\n",
              "      <td>200.000000</td>\n",
              "      <td>200.000000</td>\n",
              "      <td>344.000000</td>\n",
              "      <td>164.000000</td>\n",
              "      <td>164.000000</td>\n",
              "      <td>164.000000</td>\n",
              "      <td>344.000000</td>\n",
              "      <td>164.000000</td>\n",
              "      <td>164.000000</td>\n",
              "      <td>164.000000</td>\n",
              "      <td>164.000000</td>\n",
              "      <td>248.000000</td>\n",
              "      <td>212.000000</td>\n",
              "      <td>344.000000</td>\n",
              "      <td>212.000000</td>\n",
              "      <td>200.000000</td>\n",
              "      <td>200.00000</td>\n",
              "      <td>344.000000</td>\n",
              "      <td>344.000000</td>\n",
              "      <td>344.000000</td>\n",
              "      <td>248.000000</td>\n",
              "    </tr>\n",
              "    <tr>\n",
              "      <th>mean</th>\n",
              "      <td>504.555233</td>\n",
              "      <td>4.334677</td>\n",
              "      <td>15.668605</td>\n",
              "      <td>71.90000</td>\n",
              "      <td>318.267442</td>\n",
              "      <td>5492.799419</td>\n",
              "      <td>369.945000</td>\n",
              "      <td>212.119231</td>\n",
              "      <td>3410.762097</td>\n",
              "      <td>455.005814</td>\n",
              "      <td>133.284884</td>\n",
              "      <td>2448.697674</td>\n",
              "      <td>340.322674</td>\n",
              "      <td>3418.520349</td>\n",
              "      <td>659.002907</td>\n",
              "      <td>9.375000</td>\n",
              "      <td>3.550000</td>\n",
              "      <td>957.974576</td>\n",
              "      <td>11.320000</td>\n",
              "      <td>145.665000</td>\n",
              "      <td>10.808824</td>\n",
              "      <td>1211.223837</td>\n",
              "      <td>9428.119186</td>\n",
              "      <td>1674.671512</td>\n",
              "      <td>1518.921512</td>\n",
              "      <td>650.230000</td>\n",
              "      <td>1449.175000</td>\n",
              "      <td>124.808824</td>\n",
              "      <td>5994.328488</td>\n",
              "      <td>10433.177326</td>\n",
              "      <td>0.665323</td>\n",
              "      <td>133.265000</td>\n",
              "      <td>7.755000</td>\n",
              "      <td>2231.860000</td>\n",
              "      <td>1071.930233</td>\n",
              "      <td>609.237805</td>\n",
              "      <td>759.146341</td>\n",
              "      <td>186.146341</td>\n",
              "      <td>1772.238372</td>\n",
              "      <td>2319.585366</td>\n",
              "      <td>568.628049</td>\n",
              "      <td>1255.512195</td>\n",
              "      <td>83.042683</td>\n",
              "      <td>5530.326613</td>\n",
              "      <td>435.132075</td>\n",
              "      <td>66.261628</td>\n",
              "      <td>3.301887</td>\n",
              "      <td>2.085000</td>\n",
              "      <td>0.34000</td>\n",
              "      <td>577.691860</td>\n",
              "      <td>4734.738372</td>\n",
              "      <td>2448.697674</td>\n",
              "      <td>53794.161290</td>\n",
              "    </tr>\n",
              "    <tr>\n",
              "      <th>std</th>\n",
              "      <td>113.774481</td>\n",
              "      <td>2.755357</td>\n",
              "      <td>5.861427</td>\n",
              "      <td>36.48882</td>\n",
              "      <td>127.606645</td>\n",
              "      <td>1514.220579</td>\n",
              "      <td>94.392434</td>\n",
              "      <td>54.234700</td>\n",
              "      <td>776.156561</td>\n",
              "      <td>119.765076</td>\n",
              "      <td>44.317963</td>\n",
              "      <td>789.689559</td>\n",
              "      <td>223.855243</td>\n",
              "      <td>2459.017549</td>\n",
              "      <td>297.622342</td>\n",
              "      <td>10.564894</td>\n",
              "      <td>2.634808</td>\n",
              "      <td>624.309034</td>\n",
              "      <td>6.404113</td>\n",
              "      <td>55.392367</td>\n",
              "      <td>7.767628</td>\n",
              "      <td>800.576723</td>\n",
              "      <td>4578.013053</td>\n",
              "      <td>294.852020</td>\n",
              "      <td>971.853102</td>\n",
              "      <td>268.836273</td>\n",
              "      <td>368.638776</td>\n",
              "      <td>80.247427</td>\n",
              "      <td>1964.767779</td>\n",
              "      <td>3696.725756</td>\n",
              "      <td>0.959128</td>\n",
              "      <td>43.303821</td>\n",
              "      <td>5.089646</td>\n",
              "      <td>772.093064</td>\n",
              "      <td>643.381991</td>\n",
              "      <td>246.307700</td>\n",
              "      <td>312.871487</td>\n",
              "      <td>36.221243</td>\n",
              "      <td>656.761843</td>\n",
              "      <td>650.520866</td>\n",
              "      <td>248.040620</td>\n",
              "      <td>357.035450</td>\n",
              "      <td>62.951374</td>\n",
              "      <td>1100.752625</td>\n",
              "      <td>65.353516</td>\n",
              "      <td>34.464519</td>\n",
              "      <td>2.192922</td>\n",
              "      <td>1.761616</td>\n",
              "      <td>0.63752</td>\n",
              "      <td>104.973929</td>\n",
              "      <td>3204.054864</td>\n",
              "      <td>789.689559</td>\n",
              "      <td>11039.051992</td>\n",
              "    </tr>\n",
              "    <tr>\n",
              "      <th>min</th>\n",
              "      <td>272.000000</td>\n",
              "      <td>0.000000</td>\n",
              "      <td>2.000000</td>\n",
              "      <td>10.00000</td>\n",
              "      <td>122.000000</td>\n",
              "      <td>2350.000000</td>\n",
              "      <td>188.000000</td>\n",
              "      <td>111.000000</td>\n",
              "      <td>848.000000</td>\n",
              "      <td>243.000000</td>\n",
              "      <td>49.000000</td>\n",
              "      <td>1097.000000</td>\n",
              "      <td>59.000000</td>\n",
              "      <td>688.000000</td>\n",
              "      <td>281.000000</td>\n",
              "      <td>0.000000</td>\n",
              "      <td>0.000000</td>\n",
              "      <td>0.000000</td>\n",
              "      <td>1.000000</td>\n",
              "      <td>11.000000</td>\n",
              "      <td>0.000000</td>\n",
              "      <td>81.000000</td>\n",
              "      <td>3261.000000</td>\n",
              "      <td>1159.000000</td>\n",
              "      <td>322.000000</td>\n",
              "      <td>23.000000</td>\n",
              "      <td>484.000000</td>\n",
              "      <td>0.000000</td>\n",
              "      <td>2322.000000</td>\n",
              "      <td>4691.000000</td>\n",
              "      <td>0.000000</td>\n",
              "      <td>23.000000</td>\n",
              "      <td>0.000000</td>\n",
              "      <td>717.000000</td>\n",
              "      <td>80.000000</td>\n",
              "      <td>248.000000</td>\n",
              "      <td>262.000000</td>\n",
              "      <td>114.000000</td>\n",
              "      <td>729.000000</td>\n",
              "      <td>1173.000000</td>\n",
              "      <td>225.000000</td>\n",
              "      <td>628.000000</td>\n",
              "      <td>21.000000</td>\n",
              "      <td>1409.000000</td>\n",
              "      <td>236.000000</td>\n",
              "      <td>0.000000</td>\n",
              "      <td>0.000000</td>\n",
              "      <td>0.000000</td>\n",
              "      <td>0.00000</td>\n",
              "      <td>334.000000</td>\n",
              "      <td>1086.000000</td>\n",
              "      <td>1097.000000</td>\n",
              "      <td>30621.000000</td>\n",
              "    </tr>\n",
              "    <tr>\n",
              "      <th>25%</th>\n",
              "      <td>413.750000</td>\n",
              "      <td>2.000000</td>\n",
              "      <td>11.000000</td>\n",
              "      <td>41.75000</td>\n",
              "      <td>200.000000</td>\n",
              "      <td>4067.000000</td>\n",
              "      <td>282.000000</td>\n",
              "      <td>176.000000</td>\n",
              "      <td>3040.000000</td>\n",
              "      <td>365.750000</td>\n",
              "      <td>103.750000</td>\n",
              "      <td>1889.750000</td>\n",
              "      <td>208.250000</td>\n",
              "      <td>1053.000000</td>\n",
              "      <td>430.750000</td>\n",
              "      <td>2.000000</td>\n",
              "      <td>2.000000</td>\n",
              "      <td>549.750000</td>\n",
              "      <td>6.000000</td>\n",
              "      <td>106.000000</td>\n",
              "      <td>2.250000</td>\n",
              "      <td>811.750000</td>\n",
              "      <td>5107.750000</td>\n",
              "      <td>1430.500000</td>\n",
              "      <td>732.000000</td>\n",
              "      <td>501.000000</td>\n",
              "      <td>1297.000000</td>\n",
              "      <td>3.750000</td>\n",
              "      <td>3978.000000</td>\n",
              "      <td>6700.250000</td>\n",
              "      <td>0.000000</td>\n",
              "      <td>109.750000</td>\n",
              "      <td>4.750000</td>\n",
              "      <td>1654.500000</td>\n",
              "      <td>714.500000</td>\n",
              "      <td>360.500000</td>\n",
              "      <td>426.000000</td>\n",
              "      <td>160.000000</td>\n",
              "      <td>1276.750000</td>\n",
              "      <td>1681.000000</td>\n",
              "      <td>332.500000</td>\n",
              "      <td>950.500000</td>\n",
              "      <td>46.000000</td>\n",
              "      <td>4868.500000</td>\n",
              "      <td>390.000000</td>\n",
              "      <td>42.000000</td>\n",
              "      <td>2.000000</td>\n",
              "      <td>1.000000</td>\n",
              "      <td>0.00000</td>\n",
              "      <td>500.000000</td>\n",
              "      <td>1557.000000</td>\n",
              "      <td>1889.750000</td>\n",
              "      <td>45374.500000</td>\n",
              "    </tr>\n",
              "    <tr>\n",
              "      <th>50%</th>\n",
              "      <td>507.000000</td>\n",
              "      <td>4.000000</td>\n",
              "      <td>15.000000</td>\n",
              "      <td>70.00000</td>\n",
              "      <td>318.500000</td>\n",
              "      <td>5830.500000</td>\n",
              "      <td>384.000000</td>\n",
              "      <td>203.000000</td>\n",
              "      <td>3372.000000</td>\n",
              "      <td>433.500000</td>\n",
              "      <td>125.000000</td>\n",
              "      <td>2322.000000</td>\n",
              "      <td>285.500000</td>\n",
              "      <td>2788.500000</td>\n",
              "      <td>592.000000</td>\n",
              "      <td>4.500000</td>\n",
              "      <td>3.000000</td>\n",
              "      <td>717.500000</td>\n",
              "      <td>10.000000</td>\n",
              "      <td>149.500000</td>\n",
              "      <td>13.000000</td>\n",
              "      <td>1154.000000</td>\n",
              "      <td>9243.500000</td>\n",
              "      <td>1637.500000</td>\n",
              "      <td>1076.500000</td>\n",
              "      <td>717.500000</td>\n",
              "      <td>1492.500000</td>\n",
              "      <td>158.000000</td>\n",
              "      <td>6559.000000</td>\n",
              "      <td>10448.500000</td>\n",
              "      <td>0.000000</td>\n",
              "      <td>132.500000</td>\n",
              "      <td>7.000000</td>\n",
              "      <td>2170.500000</td>\n",
              "      <td>979.500000</td>\n",
              "      <td>623.000000</td>\n",
              "      <td>815.000000</td>\n",
              "      <td>184.000000</td>\n",
              "      <td>1755.000000</td>\n",
              "      <td>2424.000000</td>\n",
              "      <td>530.000000</td>\n",
              "      <td>1259.000000</td>\n",
              "      <td>58.000000</td>\n",
              "      <td>5455.000000</td>\n",
              "      <td>427.000000</td>\n",
              "      <td>60.500000</td>\n",
              "      <td>3.000000</td>\n",
              "      <td>2.000000</td>\n",
              "      <td>0.00000</td>\n",
              "      <td>590.000000</td>\n",
              "      <td>4190.000000</td>\n",
              "      <td>2322.000000</td>\n",
              "      <td>54926.500000</td>\n",
              "    </tr>\n",
              "    <tr>\n",
              "      <th>75%</th>\n",
              "      <td>577.250000</td>\n",
              "      <td>6.000000</td>\n",
              "      <td>19.000000</td>\n",
              "      <td>96.25000</td>\n",
              "      <td>398.250000</td>\n",
              "      <td>6582.500000</td>\n",
              "      <td>441.250000</td>\n",
              "      <td>236.250000</td>\n",
              "      <td>3733.500000</td>\n",
              "      <td>536.250000</td>\n",
              "      <td>151.250000</td>\n",
              "      <td>2778.000000</td>\n",
              "      <td>401.250000</td>\n",
              "      <td>5385.250000</td>\n",
              "      <td>784.000000</td>\n",
              "      <td>14.000000</td>\n",
              "      <td>5.000000</td>\n",
              "      <td>1306.750000</td>\n",
              "      <td>15.000000</td>\n",
              "      <td>180.500000</td>\n",
              "      <td>17.000000</td>\n",
              "      <td>1635.000000</td>\n",
              "      <td>11590.500000</td>\n",
              "      <td>1833.250000</td>\n",
              "      <td>2334.250000</td>\n",
              "      <td>860.000000</td>\n",
              "      <td>1731.250000</td>\n",
              "      <td>181.500000</td>\n",
              "      <td>7601.500000</td>\n",
              "      <td>13877.500000</td>\n",
              "      <td>1.000000</td>\n",
              "      <td>152.250000</td>\n",
              "      <td>11.000000</td>\n",
              "      <td>2880.500000</td>\n",
              "      <td>1546.000000</td>\n",
              "      <td>763.500000</td>\n",
              "      <td>1045.250000</td>\n",
              "      <td>208.000000</td>\n",
              "      <td>2202.000000</td>\n",
              "      <td>2905.500000</td>\n",
              "      <td>793.500000</td>\n",
              "      <td>1515.250000</td>\n",
              "      <td>93.000000</td>\n",
              "      <td>6261.750000</td>\n",
              "      <td>481.500000</td>\n",
              "      <td>87.000000</td>\n",
              "      <td>4.000000</td>\n",
              "      <td>3.000000</td>\n",
              "      <td>1.00000</td>\n",
              "      <td>649.000000</td>\n",
              "      <td>6872.750000</td>\n",
              "      <td>2778.000000</td>\n",
              "      <td>63292.500000</td>\n",
              "    </tr>\n",
              "    <tr>\n",
              "      <th>max</th>\n",
              "      <td>831.000000</td>\n",
              "      <td>21.000000</td>\n",
              "      <td>36.000000</td>\n",
              "      <td>194.00000</td>\n",
              "      <td>645.000000</td>\n",
              "      <td>9050.000000</td>\n",
              "      <td>561.000000</td>\n",
              "      <td>449.000000</td>\n",
              "      <td>6653.000000</td>\n",
              "      <td>914.000000</td>\n",
              "      <td>300.000000</td>\n",
              "      <td>5358.000000</td>\n",
              "      <td>1329.000000</td>\n",
              "      <td>9669.000000</td>\n",
              "      <td>1628.000000</td>\n",
              "      <td>54.000000</td>\n",
              "      <td>12.000000</td>\n",
              "      <td>2626.000000</td>\n",
              "      <td>37.000000</td>\n",
              "      <td>283.000000</td>\n",
              "      <td>26.000000</td>\n",
              "      <td>3661.000000</td>\n",
              "      <td>23203.000000</td>\n",
              "      <td>2630.000000</td>\n",
              "      <td>5368.000000</td>\n",
              "      <td>1036.000000</td>\n",
              "      <td>2215.000000</td>\n",
              "      <td>243.000000</td>\n",
              "      <td>9880.000000</td>\n",
              "      <td>18003.000000</td>\n",
              "      <td>5.000000</td>\n",
              "      <td>271.000000</td>\n",
              "      <td>31.000000</td>\n",
              "      <td>3627.000000</td>\n",
              "      <td>2543.000000</td>\n",
              "      <td>1160.000000</td>\n",
              "      <td>1282.000000</td>\n",
              "      <td>289.000000</td>\n",
              "      <td>3695.000000</td>\n",
              "      <td>3425.000000</td>\n",
              "      <td>1114.000000</td>\n",
              "      <td>2314.000000</td>\n",
              "      <td>350.000000</td>\n",
              "      <td>9034.000000</td>\n",
              "      <td>628.000000</td>\n",
              "      <td>217.000000</td>\n",
              "      <td>13.000000</td>\n",
              "      <td>10.000000</td>\n",
              "      <td>3.00000</td>\n",
              "      <td>848.000000</td>\n",
              "      <td>13833.000000</td>\n",
              "      <td>5358.000000</td>\n",
              "      <td>75403.000000</td>\n",
              "    </tr>\n",
              "  </tbody>\n",
              "</table>\n",
              "</div>"
            ],
            "text/plain": [
              "       hom_doloso  lesao_corp_morte  ...  indicador_roubo_veic  registro_ocorrencias\n",
              "count  344.000000        248.000000  ...            344.000000            248.000000\n",
              "mean   504.555233          4.334677  ...           2448.697674          53794.161290\n",
              "std    113.774481          2.755357  ...            789.689559          11039.051992\n",
              "min    272.000000          0.000000  ...           1097.000000          30621.000000\n",
              "25%    413.750000          2.000000  ...           1889.750000          45374.500000\n",
              "50%    507.000000          4.000000  ...           2322.000000          54926.500000\n",
              "75%    577.250000          6.000000  ...           2778.000000          63292.500000\n",
              "max    831.000000         21.000000  ...           5358.000000          75403.000000\n",
              "\n",
              "[8 rows x 53 columns]"
            ]
          },
          "metadata": {
            "tags": []
          },
          "execution_count": 62
        }
      ]
    },
    {
      "cell_type": "markdown",
      "metadata": {
        "id": "5AqLicGrvJGr",
        "colab_type": "text"
      },
      "source": [
        "* Nessa tabela eu usei a função `iloc` para pegar apenas as colunas com informações mais importantes. Pois `ano`, `mes` e `fase` não eram cruciais para esse resumo estatístico.\n",
        "\n",
        "* Alguns dados, são de cara, alarmantes. Como no caso de `Homicídios Dolosos`, que tem 50% de seus valores abaixo de 507 casos, e uma máxima de 831, mais de 60% acima da mediana. \n",
        "\n",
        "* Outro dado assustador, é a discrepância da mediana de `Roubos de Carga` para o valor máximo. Enquanto 50% dos meses, tiveram até 285 casos de roubo de carga, mas tivemos em um mês, 1329 ocorrências desse tipo.\n",
        "\n",
        "* Algo que me chamou bastante atenção foi em comparar os dados de `roubo de veículo` e `roubo de celular`, tendo o `roubo de veículos` tendo uma média, mediana e máxima maior que ao `roubo de celular`. O que acredito que possar ser devido a nem todos os casos de `roubo de celular`, a pessoa fazer um BO, mas não podemos afimar isso apenas com esses dados.\n"
      ]
    },
    {
      "cell_type": "markdown",
      "metadata": {
        "id": "ClDJd5jByfjV",
        "colab_type": "text"
      },
      "source": [
        "### **4.2 - Será que conseguiremos recuperar nosso veículo?**\n",
        "\n",
        "Agora imagina que você está passeando com sua família, indo passar o dia no shopping, indo em alguma das belas praias do Rio, ou mesmo indo no mercado no seu bairro. Infelizmente nesse dia, você entrou para as estatísticas de violência da cidade e teve seu veículo furtado. E agora?\n",
        "\n",
        "Vamos descobrir qual a porcentagem dos veículos que são furtados ou roubados, são recuperados.\n",
        "\n"
      ]
    },
    {
      "cell_type": "code",
      "metadata": {
        "id": "JiRIhnhB0EQW",
        "colab_type": "code",
        "outputId": "9d9cae5a-442c-474b-939f-72e42d534d7c",
        "colab": {
          "base_uri": "https://localhost:8080/",
          "height": 67
        }
      },
      "source": [
        "# Calcular a média da variável roubo de veículo\n",
        "print ('A média de roubos de veículos entre 1991 e 2019, é:',round(df.roubo_veiculo.mean(), 2))\n",
        "\n",
        "# Calcular a média da variável furtos de veículos\n",
        "print ('A média de futros de veículos entre 1991 e 2019, é:', round(df.furto_veiculos.mean(), 2))\n",
        "\n",
        "# Calcular a média de recuperação de veículos \n",
        "print ('A média de recuperação de veículos entre 1991 e 2019, é:', round(df.recuperacao_veiculos.mean(), 2))"
      ],
      "execution_count": 0,
      "outputs": [
        {
          "output_type": "stream",
          "text": [
            "A média de roubos de veículos entre 1991 e 2019, é: 2448.7\n",
            "A média de futros de veículos entre 1991 e 2019, é: 1674.67\n",
            "A média de recuperação de veículos entre 1991 e 2019, é: 1772.24\n"
          ],
          "name": "stdout"
        }
      ]
    },
    {
      "cell_type": "code",
      "metadata": {
        "id": "mq9jgLEL3lnU",
        "colab_type": "code",
        "outputId": "4e2126b9-4081-4e6e-c287-9c7182c7b26b",
        "colab": {
          "base_uri": "https://localhost:8080/",
          "height": 34
        }
      },
      "source": [
        "# Calcular a porcentagem de veículos recuperados em relação aos veículos roubados e furtados\n",
        "df.recuperacao_veiculos.sum() / (df.roubo_veiculo.sum() + df.furto_veiculos.sum()) * 100"
      ],
      "execution_count": 0,
      "outputs": [
        {
          "output_type": "execute_result",
          "data": {
            "text/plain": [
              "42.980346705075085"
            ]
          },
          "metadata": {
            "tags": []
          },
          "execution_count": 70
        }
      ]
    },
    {
      "cell_type": "markdown",
      "metadata": {
        "id": "r4PfWXGx8Gp8",
        "colab_type": "text"
      },
      "source": [
        "**Resposta**\n",
        "\n",
        "Apenas 42% dos veículos roubados ou furtados no Rio são recuperados. Então se você passar pela infelicidade de entrar para estatística de roubo ou furto de veículo, você tem menos de 50% de chances de entrar para estatística de veículos recuperados. "
      ]
    },
    {
      "cell_type": "markdown",
      "metadata": {
        "id": "WwhsDfvF9MfK",
        "colab_type": "text"
      },
      "source": [
        "### **4.3 - Quando ocorreu o maior e o menor número, de homicídios dolosos no Rio?**\n",
        "\n",
        "O estado do Rio leva a fama de ser um dos mais violentos do país, sempre aparecendo em destaque em reportagens sobre roubos, furtos e as mais diversas notícias ruins na TV e nos jornais. Mas quais foram os anos com os maiores registros de homicídios dolosos? E os menores? Vamos descobrir agora.\n"
      ]
    },
    {
      "cell_type": "code",
      "metadata": {
        "id": "76fGPze59iNC",
        "colab_type": "code",
        "outputId": "fc02c92b-7144-4bd0-e67c-5f723589fb14",
        "colab": {
          "base_uri": "https://localhost:8080/",
          "height": 218
        }
      },
      "source": [
        "# Criar uma variável, que clona o meu dataframe\n",
        "df_clean = df.copy()\n",
        "\n",
        "# Descobrir os anos em que tiveram mais homicidios dolosos registrados\n",
        "df_clean.groupby(['vano']).hom_doloso.sum().sort_values(ascending=False)[:10]"
      ],
      "execution_count": 0,
      "outputs": [
        {
          "output_type": "execute_result",
          "data": {
            "text/plain": [
              "vano\n",
              "1995    8438\n",
              "1994    8408\n",
              "1993    7720\n",
              "1992    7635\n",
              "1991    7518\n",
              "1996    7259\n",
              "1997    6923\n",
              "2002    6885\n",
              "2003    6624\n",
              "2005    6620\n",
              "Name: hom_doloso, dtype: int64"
            ]
          },
          "metadata": {
            "tags": []
          },
          "execution_count": 141
        }
      ]
    },
    {
      "cell_type": "code",
      "metadata": {
        "id": "MsB3yrMiKrtr",
        "colab_type": "code",
        "outputId": "da36de6c-cdfc-416a-a8b9-854ed641b796",
        "colab": {
          "base_uri": "https://localhost:8080/",
          "height": 218
        }
      },
      "source": [
        "# Descobrir os anos em que tiveram menos homicidios dolosos registrados\n",
        "df_clean.groupby(['vano']).hom_doloso.sum().sort_values(ascending=True)[:10]"
      ],
      "execution_count": 0,
      "outputs": [
        {
          "output_type": "execute_result",
          "data": {
            "text/plain": [
              "vano\n",
              "2019    2717\n",
              "2012    4081\n",
              "2015    4200\n",
              "2011    4279\n",
              "2013    4745\n",
              "2010    4767\n",
              "2014    4942\n",
              "2018    4950\n",
              "2016    5042\n",
              "2017    5346\n",
              "Name: hom_doloso, dtype: int64"
            ]
          },
          "metadata": {
            "tags": []
          },
          "execution_count": 142
        }
      ]
    },
    {
      "cell_type": "markdown",
      "metadata": {
        "id": "ZUYC08rlKjeO",
        "colab_type": "text"
      },
      "source": [
        "* Vale uma observação, que em 2019, os dados vão até agosto apenas.\n",
        "\n",
        "* Respondendo a pergunta do enunciado. Em 1995 foi quando ocorreu o maior número de homicídios dolosos no Rio. \n",
        "\n",
        "* Outra coisa que me surpreendeu bastante é que, como ja falei no início do artigo, os dados começaram a ser disponibilizados em 1991, ou seja, temos 9 entradas da década de 90, e 7 delas estão entre os anos em que teve mais homicídios dolosos registrados. "
      ]
    },
    {
      "cell_type": "markdown",
      "metadata": {
        "id": "9lqU-pEhJOJE",
        "colab_type": "text"
      },
      "source": [
        "**Uma surpresa, não necessariamente boa.**\n",
        "\n",
        "Para minha surpresa, pois morando no estado do Rio, quando ligo a TV (coisa rara, até), os jornais sempre noticiam coisas assustadoras, e isso é frequente, realmente os casos ainda são grandes e os números mostram isso. Mas, podemos ver no nosso dataset, que em 1995, foi quando ocorreu o maior registro de homicídios dolosos, e desconsiderando 2019 por não estar com os dados completos, 2012, o ano com o menor registro homicídios dolosos."
      ]
    },
    {
      "cell_type": "markdown",
      "metadata": {
        "id": "Yr5iuY9QUs77",
        "colab_type": "text"
      },
      "source": [
        "### **4.4 - E quanto a tentativa de homicídio?**\n",
        "\n",
        "Como vimos anteriormente, nos ultimos anos tivemos uma tendência de queda em relação aos casos registrados de homicídios dolosos, mas e quanto a tentativa de homicídio doloso? Será que esse dado também está com uma tendência de queda? Vamos ver.\n"
      ]
    },
    {
      "cell_type": "code",
      "metadata": {
        "id": "iGlvR7b9Vsby",
        "colab_type": "code",
        "outputId": "c71dd5a3-ffd0-4be2-e97a-38a511d26bf2",
        "colab": {
          "base_uri": "https://localhost:8080/",
          "height": 218
        }
      },
      "source": [
        "# Descobrir os anos em que tiveram mais tentativas de homicídio registrados\n",
        "df_clean.groupby(['vano']).tentat_hom.sum().sort_values(ascending=False)[:10]"
      ],
      "execution_count": 0,
      "outputs": [
        {
          "output_type": "execute_result",
          "data": {
            "text/plain": [
              "vano\n",
              "2014    6366\n",
              "2018    6242\n",
              "2016    6055\n",
              "2015    6009\n",
              "2017    6001\n",
              "2013    4948\n",
              "2012    4574\n",
              "2009    4472\n",
              "2011    4242\n",
              "2010    4146\n",
              "Name: tentat_hom, dtype: int64"
            ]
          },
          "metadata": {
            "tags": []
          },
          "execution_count": 144
        }
      ]
    },
    {
      "cell_type": "code",
      "metadata": {
        "id": "XGpK_VTXWOvt",
        "colab_type": "code",
        "outputId": "cfe60d9d-df49-48bc-d824-97389f6e4950",
        "colab": {
          "base_uri": "https://localhost:8080/",
          "height": 218
        }
      },
      "source": [
        "# Descobrir os anos em que tiveram menos tentativas de homicídio registrados\n",
        "df_clean.groupby(['vano']).tentat_hom.sum().sort_values(ascending=True)[:10]"
      ],
      "execution_count": 0,
      "outputs": [
        {
          "output_type": "execute_result",
          "data": {
            "text/plain": [
              "vano\n",
              "1993    1741\n",
              "1994    1766\n",
              "1992    1910\n",
              "1995    1944\n",
              "1996    2018\n",
              "1991    2250\n",
              "1997    2355\n",
              "1998    2418\n",
              "1999    2493\n",
              "2000    2641\n",
              "Name: tentat_hom, dtype: int64"
            ]
          },
          "metadata": {
            "tags": []
          },
          "execution_count": 145
        }
      ]
    },
    {
      "cell_type": "markdown",
      "metadata": {
        "id": "omI5iMm-WVQN",
        "colab_type": "text"
      },
      "source": [
        "* Podemos ver que a tendência da tentiva de homicídio é crescente. \n",
        "\n",
        "* Podemos notar uma correlação negativa entre as variáveis `hom_doloso` e `tentat_hom`."
      ]
    },
    {
      "cell_type": "markdown",
      "metadata": {
        "id": "7WK0NBQZASKC",
        "colab_type": "text"
      },
      "source": [
        "## **5 - Visualização de Dados**\n",
        "\n",
        "Nessa parte irei fazer a apresentação dos dados de uma forma mais visual. Vou plotar alguns gráficos para me auxiliar na conclusão final do artigo.\n",
        "\n"
      ]
    },
    {
      "cell_type": "markdown",
      "metadata": {
        "id": "LhbhT7_0N54N",
        "colab_type": "text"
      },
      "source": [
        "### **5.1 - Histograma de Homicídios dolosos**"
      ]
    },
    {
      "cell_type": "code",
      "metadata": {
        "id": "twZl4BLiOAsw",
        "colab_type": "code",
        "outputId": "84402b32-372f-4631-eb83-533cc79e34a1",
        "colab": {
          "base_uri": "https://localhost:8080/",
          "height": 265
        }
      },
      "source": [
        "# Criar um histograma para a coluna hom_doloso\n",
        "df.hom_doloso.hist();"
      ],
      "execution_count": 0,
      "outputs": [
        {
          "output_type": "display_data",
          "data": {
            "image/png": "[encoded data removed]",
            "text/plain": [
              "<Figure size 432x288 with 1 Axes>"
            ]
          },
          "metadata": {
            "tags": [],
            "needs_background": "light"
          }
        }
      ]
    },
    {
      "cell_type": "markdown",
      "metadata": {
        "id": "I2l1_G9meru8",
        "colab_type": "text"
      },
      "source": [
        "* Podemos ver no nosso histograma, que a maior frequência está entre os 400 e 600 casos. \n",
        "\n",
        "* Temos uma queda na frequência de casos a partir de 650. O que significa que temos bem menos frequência de mais de 650 casos nos meses."
      ]
    },
    {
      "cell_type": "markdown",
      "metadata": {
        "id": "EXrG5oG5QqA7",
        "colab_type": "text"
      },
      "source": [
        "### **5.2 - Gráfico de Linhas para Homicídios dolosos e Tentativa de Homicídios**\n",
        "\n",
        "* Vamos verificar agora, graficamente, a tendência de queda da variável Homicídios Dolosos e a tendência de crescimento da variável Tentativa de Homicídios."
      ]
    },
    {
      "cell_type": "code",
      "metadata": {
        "id": "PshWBnvARNRr",
        "colab_type": "code",
        "outputId": "b7d33b9b-b668-4514-f7f7-0f78a2aac3c2",
        "colab": {
          "base_uri": "https://localhost:8080/",
          "height": 265
        }
      },
      "source": [
        "# Plotar um gráfico de linhas comparando `hom_doloso` e `tentat_hom`\n",
        "df.hom_doloso.plot(kind=\"line\");\n",
        "df.tentat_hom.plot(kind=\"line\");\n",
        "plt.savefig('gráfico.png')"
      ],
      "execution_count": 0,
      "outputs": [
        {
          "output_type": "display_data",
          "data": {
            "image/png": "[encoded data removed]",
            "text/plain": [
              "<Figure size 432x288 with 1 Axes>"
            ]
          },
          "metadata": {
            "tags": [],
            "needs_background": "light"
          }
        }
      ]
    },
    {
      "cell_type": "markdown",
      "metadata": {
        "id": "VGDLtlJyTXMN",
        "colab_type": "text"
      },
      "source": [
        "* A linha azul da variável hom_doloso e a linha laranja da variável tentat_hom, demonstram as tendências delas, a azul em queda e a laranja em crescimento."
      ]
    },
    {
      "cell_type": "markdown",
      "metadata": {
        "id": "xdt7ECCGfTh3",
        "colab_type": "text"
      },
      "source": [
        "### **5.3 - Gráfico de Linhas para a variável Roubo em coletivos**"
      ]
    },
    {
      "cell_type": "code",
      "metadata": {
        "id": "Am4qnrwMfc_F",
        "colab_type": "code",
        "outputId": "a86e352b-8f93-4d52-ab35-9efb4b997619",
        "colab": {
          "base_uri": "https://localhost:8080/",
          "height": 265
        }
      },
      "source": [
        "# Plotar um gráfico de linhas para a variável roubo_em_coletivo\n",
        "df.roubo_em_coletivo.plot();\n",
        "plt.savefig('roubocoletivo.png')"
      ],
      "execution_count": 0,
      "outputs": [
        {
          "output_type": "display_data",
          "data": {
            "image/png": "[encoded data removed]",
            "text/plain": [
              "<Figure size 432x288 with 1 Axes>"
            ]
          },
          "metadata": {
            "tags": [],
            "needs_background": "light"
          }
        }
      ]
    },
    {
      "cell_type": "markdown",
      "metadata": {
        "id": "JHYO7oA7gGWl",
        "colab_type": "text"
      },
      "source": [
        "Temos alguns pontos interessantes nesse gráfico.\n",
        "\n",
        "* Claramente vemos como os casos de roubo em coletivos, saiu da casa dos 400 casos mensais, para atualmente mais de 1200 casos, uma diferença enorme. \n",
        "\n",
        "* Podemos notar também que em certos períodos temos quedas bem grandes. Vemos no intervalo 100 - 150, temos duas grandes quedas. E que do intervalo 150 - 200, um aumento e uma constância, até a queda no final do intervalo 200 - 250. E a partir do intervalo 250 um grande aumento, com apenas uma grande queda.  \n"
      ]
    },
    {
      "cell_type": "markdown",
      "metadata": {
        "id": "o24GSLkol8FI",
        "colab_type": "text"
      },
      "source": [
        "### **5.4 - Gráfico de linhas para a variável roubo de cargas**"
      ]
    },
    {
      "cell_type": "code",
      "metadata": {
        "id": "teo2mFxpmCA4",
        "colab_type": "code",
        "outputId": "21cc157e-0fac-48a8-e2e3-ebd29acdd402",
        "colab": {
          "base_uri": "https://localhost:8080/",
          "height": 265
        }
      },
      "source": [
        "# Plotar um gráfico de linhas para a variável roubo_carga\n",
        "df.roubo_carga.plot();"
      ],
      "execution_count": 0,
      "outputs": [
        {
          "output_type": "display_data",
          "data": {
            "image/png": "[encoded data removed]",
            "text/plain": [
              "<Figure size 432x288 with 1 Axes>"
            ]
          },
          "metadata": {
            "tags": [],
            "needs_background": "light"
          }
        }
      ]
    },
    {
      "cell_type": "markdown",
      "metadata": {
        "id": "x9ssXsHbmQc5",
        "colab_type": "text"
      },
      "source": [
        "* O roubo de cargas, assim como roubo em coletivos, também teve um grande aumento de casos com o passar dos anos. Mesmo que agora apresente uma tendência de queda, os casos estão na casa dos 600 por mês."
      ]
    },
    {
      "cell_type": "markdown",
      "metadata": {
        "id": "LCsiXvM3BcsO",
        "colab_type": "text"
      },
      "source": [
        "## **6 - Conclusão**\n",
        "\n",
        "Após uma análise exploratória dos dados sobre a violência no Rio de Janeiro, chegamos a algumas conclusões.\n",
        "\n",
        "* O roubo de carga e em coletivos, trazem números alarmantes para o povo. Com um grande diferença do início da coleta dos dados, até o dia de hoje.\n",
        "\n",
        "* Outro caso interessante é o roubo de veículos, que tem uma média acima do roubo de celulares. Para descobrir, com certeza, a razão para tal, nos precisamos de mais dados, mas é no mínimo, curioso.\n",
        "\n",
        "* Os casos de homicídios dolosos estão em queda no estado, outro dado também, no mínimo, curioso, que apenas com esse dataset não podemos concluir a razão. Mas é particularmente impressionante 7 das 9 entradas da década de 90, estarem com os maiores registros de homicídios dolosos, com 1995, liderando essa estatística com 8438 homicídios dolosos registrados. \n",
        "\n",
        "* Infelizmente notamos que ocorre uma correlação negativa entre homicídios dolosos e tentativas de homicídios, ja que nos anos que tivemos mais homicídios registrados foram os anos com menos tentativas de homicídios registradas, e vice-versa.\n",
        "\n",
        "Vou deixar aqui meu [LinkedIn](https://www.linkedin.com/in/nelsontmiranda/), para quem tem interesse em data science, continuaria fazendo novos projetos e postando todo o notebook no meu repositório no [github](https://github.com/Nelsontmiranda/data_science). "
      ]
    }
  ]
}